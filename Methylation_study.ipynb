{
  "nbformat": 4,
  "nbformat_minor": 0,
  "metadata": {
    "colab": {
      "name": "Methylation_study",
      "provenance": []
    },
    "kernelspec": {
      "name": "python3",
      "display_name": "Python 3"
    }
  },
  "cells": [
    {
      "cell_type": "code",
      "metadata": {
        "id": "i8B28p_E7_N_"
      },
      "source": [
        "import os\n",
        "import sys\n",
        "import pandas as pd\n",
        "import seaborn as sns\n",
        "import re"
      ],
      "execution_count": null,
      "outputs": []
    },
    {
      "cell_type": "code",
      "metadata": {
        "id": "QoO5Yq0p8LUf"
      },
      "source": [
        "folder = os.listdir()"
      ],
      "execution_count": null,
      "outputs": []
    },
    {
      "cell_type": "code",
      "metadata": {
        "id": "iGrKrgyK8Qei"
      },
      "source": [
        "p = re.compile('GSM12294*')\n",
        "newF = []\n",
        "for i in folder:\n",
        "  if p.match(i):\n",
        "    newF.append(i)\n",
        "  else:\n",
        "    pass\n",
        "\n",
        "centralDF= []\n",
        "for i in newF:\n",
        "  df = pd.read_csv(i, sep='\\t', skiprows=3, index_col='ID_REF', usecols=['ID_REF','VALUE'])\n",
        "  centralDF.append(df)\n",
        "\n",
        "frame = pd.concat(centralDF, axis=1, ignore_index=False)\n",
        "\n"
      ],
      "execution_count": null,
      "outputs": []
    },
    {
      "cell_type": "code",
      "metadata": {
        "id": "lsvb-CWBFfdj"
      },
      "source": [
        "colList = []\n",
        "for i,j in zip(frame.columns, range(0,12)):\n",
        "  i = i + str(j)\n",
        "  colList.append(i)\n",
        "\n",
        "frame.columns = colList\n"
      ],
      "execution_count": null,
      "outputs": []
    },
    {
      "cell_type": "code",
      "metadata": {
        "colab": {
          "base_uri": "https://localhost:8080/",
          "height": 255
        },
        "id": "2wyvyZOQ8sRj",
        "outputId": "63f39a49-3d57-4bd4-d268-5902f1cb648d"
      },
      "source": [
        "frame.head()"
      ],
      "execution_count": null,
      "outputs": [
        {
          "output_type": "execute_result",
          "data": {
            "text/html": [
              "<div>\n",
              "<style scoped>\n",
              "    .dataframe tbody tr th:only-of-type {\n",
              "        vertical-align: middle;\n",
              "    }\n",
              "\n",
              "    .dataframe tbody tr th {\n",
              "        vertical-align: top;\n",
              "    }\n",
              "\n",
              "    .dataframe thead th {\n",
              "        text-align: right;\n",
              "    }\n",
              "</style>\n",
              "<table border=\"1\" class=\"dataframe\">\n",
              "  <thead>\n",
              "    <tr style=\"text-align: right;\">\n",
              "      <th></th>\n",
              "      <th>VALUE0</th>\n",
              "      <th>VALUE1</th>\n",
              "      <th>VALUE2</th>\n",
              "      <th>VALUE3</th>\n",
              "      <th>VALUE4</th>\n",
              "      <th>VALUE5</th>\n",
              "      <th>VALUE6</th>\n",
              "      <th>VALUE7</th>\n",
              "      <th>VALUE8</th>\n",
              "      <th>VALUE9</th>\n",
              "      <th>VALUE10</th>\n",
              "      <th>VALUE11</th>\n",
              "    </tr>\n",
              "    <tr>\n",
              "      <th>ID_REF</th>\n",
              "      <th></th>\n",
              "      <th></th>\n",
              "      <th></th>\n",
              "      <th></th>\n",
              "      <th></th>\n",
              "      <th></th>\n",
              "      <th></th>\n",
              "      <th></th>\n",
              "      <th></th>\n",
              "      <th></th>\n",
              "      <th></th>\n",
              "      <th></th>\n",
              "    </tr>\n",
              "  </thead>\n",
              "  <tbody>\n",
              "    <tr>\n",
              "      <th>cg00000029</th>\n",
              "      <td>0.521237</td>\n",
              "      <td>0.653006</td>\n",
              "      <td>0.530510</td>\n",
              "      <td>0.485772</td>\n",
              "      <td>0.652554</td>\n",
              "      <td>0.626586</td>\n",
              "      <td>0.504165</td>\n",
              "      <td>0.585482</td>\n",
              "      <td>0.678210</td>\n",
              "      <td>0.643385</td>\n",
              "      <td>0.536879</td>\n",
              "      <td>0.551752</td>\n",
              "    </tr>\n",
              "    <tr>\n",
              "      <th>cg00000108</th>\n",
              "      <td>0.928923</td>\n",
              "      <td>0.915817</td>\n",
              "      <td>0.914018</td>\n",
              "      <td>0.901949</td>\n",
              "      <td>0.914259</td>\n",
              "      <td>0.942987</td>\n",
              "      <td>0.918009</td>\n",
              "      <td>0.890806</td>\n",
              "      <td>0.908449</td>\n",
              "      <td>0.923371</td>\n",
              "      <td>0.925991</td>\n",
              "      <td>0.885647</td>\n",
              "    </tr>\n",
              "    <tr>\n",
              "      <th>cg00000109</th>\n",
              "      <td>0.738499</td>\n",
              "      <td>0.793938</td>\n",
              "      <td>0.894025</td>\n",
              "      <td>0.748407</td>\n",
              "      <td>0.794418</td>\n",
              "      <td>0.821623</td>\n",
              "      <td>0.850932</td>\n",
              "      <td>0.893748</td>\n",
              "      <td>0.835049</td>\n",
              "      <td>0.771182</td>\n",
              "      <td>0.879679</td>\n",
              "      <td>0.854259</td>\n",
              "    </tr>\n",
              "    <tr>\n",
              "      <th>cg00000165</th>\n",
              "      <td>0.199628</td>\n",
              "      <td>0.278563</td>\n",
              "      <td>0.187273</td>\n",
              "      <td>0.262099</td>\n",
              "      <td>0.193797</td>\n",
              "      <td>0.227436</td>\n",
              "      <td>0.174958</td>\n",
              "      <td>0.148438</td>\n",
              "      <td>0.183519</td>\n",
              "      <td>0.262364</td>\n",
              "      <td>0.177545</td>\n",
              "      <td>0.176629</td>\n",
              "    </tr>\n",
              "    <tr>\n",
              "      <th>cg00000236</th>\n",
              "      <td>0.723838</td>\n",
              "      <td>0.823110</td>\n",
              "      <td>0.810787</td>\n",
              "      <td>0.690491</td>\n",
              "      <td>0.845897</td>\n",
              "      <td>0.847507</td>\n",
              "      <td>0.703242</td>\n",
              "      <td>0.843053</td>\n",
              "      <td>0.837166</td>\n",
              "      <td>0.814382</td>\n",
              "      <td>0.751569</td>\n",
              "      <td>0.804898</td>\n",
              "    </tr>\n",
              "  </tbody>\n",
              "</table>\n",
              "</div>"
            ],
            "text/plain": [
              "              VALUE0    VALUE1    VALUE2  ...    VALUE9   VALUE10   VALUE11\n",
              "ID_REF                                    ...                              \n",
              "cg00000029  0.521237  0.653006  0.530510  ...  0.643385  0.536879  0.551752\n",
              "cg00000108  0.928923  0.915817  0.914018  ...  0.923371  0.925991  0.885647\n",
              "cg00000109  0.738499  0.793938  0.894025  ...  0.771182  0.879679  0.854259\n",
              "cg00000165  0.199628  0.278563  0.187273  ...  0.262364  0.177545  0.176629\n",
              "cg00000236  0.723838  0.823110  0.810787  ...  0.814382  0.751569  0.804898\n",
              "\n",
              "[5 rows x 12 columns]"
            ]
          },
          "metadata": {
            "tags": []
          },
          "execution_count": 22
        }
      ]
    },
    {
      "cell_type": "code",
      "metadata": {
        "colab": {
          "base_uri": "https://localhost:8080/"
        },
        "id": "q3yAWOL7_C-n",
        "outputId": "cd896d6d-1449-4566-8149-c596f1567999"
      },
      "source": [
        "frame.shape"
      ],
      "execution_count": null,
      "outputs": [
        {
          "output_type": "execute_result",
          "data": {
            "text/plain": [
              "(485577, 12)"
            ]
          },
          "metadata": {
            "tags": []
          },
          "execution_count": 6
        }
      ]
    },
    {
      "cell_type": "code",
      "metadata": {
        "colab": {
          "base_uri": "https://localhost:8080/",
          "height": 282
        },
        "id": "mNYov41LEqLw",
        "outputId": "03f1cf1d-7517-4ec1-ac89-bda928e6b7ea"
      },
      "source": [
        "frame['VALUE0'].hist()"
      ],
      "execution_count": null,
      "outputs": [
        {
          "output_type": "execute_result",
          "data": {
            "text/plain": [
              "<matplotlib.axes._subplots.AxesSubplot at 0x7f0d378aeda0>"
            ]
          },
          "metadata": {
            "tags": []
          },
          "execution_count": 23
        },
        {
          "output_type": "display_data",
          "data": {
            "image/png": "[encoded data removed]",
            "text/plain": [
              "<Figure size 432x288 with 1 Axes>"
            ]
          },
          "metadata": {
            "tags": [],
            "needs_background": "light"
          }
        }
      ]
    },
    {
      "cell_type": "code",
      "metadata": {
        "id": "MF8wzeCkHQHU"
      },
      "source": [
        "frame.to_csv('methylation_dataset_clean.csv')"
      ],
      "execution_count": null,
      "outputs": []
    },
    {
      "cell_type": "code",
      "metadata": {
        "colab": {
          "base_uri": "https://localhost:8080/"
        },
        "id": "_sp89OGpNMZO",
        "outputId": "7871fb3a-9b23-4bc5-c794-3426883c6c01"
      },
      "source": [
        "!pip3 install cpgtools"
      ],
      "execution_count": null,
      "outputs": [
        {
          "output_type": "stream",
          "text": [
            "Collecting cpgtools\n",
            "\u001b[?25l  Downloading https://files.pythonhosted.org/packages/37/f2/890152ee36ae4f15a919416a85c7b097b71eb638c4d3e6196b958473c5b4/cpgtools-1.0.9-py3-none-any.whl (5.1MB)\n",
            "\u001b[K     |████████████████████████████████| 5.1MB 5.9MB/s \n",
            "\u001b[?25hRequirement already satisfied: scipy in /usr/local/lib/python3.6/dist-packages (from cpgtools) (1.4.1)\n",
            "Collecting bx-python\n",
            "\u001b[?25l  Downloading https://files.pythonhosted.org/packages/fa/88/be30eb2c688e6be20652cbee254b3fb31a73f91b7e3251f78ad626295ef1/bx_python-0.8.9-cp36-cp36m-manylinux2010_x86_64.whl (4.0MB)\n",
            "\u001b[K     |████████████████████████████████| 4.0MB 35.3MB/s \n",
            "\u001b[?25hRequirement already satisfied: pandas in /usr/local/lib/python3.6/dist-packages (from cpgtools) (1.1.5)\n",
            "Collecting weblogo\n",
            "\u001b[?25l  Downloading https://files.pythonhosted.org/packages/9f/7f/c7308af93f2211d268c981b7685b169f906b8c55e7249db2b816de676cd6/weblogo-3.7.8-py3-none-any.whl (466kB)\n",
            "\u001b[K     |████████████████████████████████| 471kB 42.4MB/s \n",
            "\u001b[?25hRequirement already satisfied: numpy in /usr/local/lib/python3.6/dist-packages (from cpgtools) (1.19.5)\n",
            "Requirement already satisfied: sklearn in /usr/local/lib/python3.6/dist-packages (from cpgtools) (0.0)\n",
            "Requirement already satisfied: six>=1.13.0 in /usr/local/lib/python3.6/dist-packages (from bx-python->cpgtools) (1.15.0)\n",
            "Requirement already satisfied: python-dateutil>=2.7.3 in /usr/local/lib/python3.6/dist-packages (from pandas->cpgtools) (2.8.1)\n",
            "Requirement already satisfied: pytz>=2017.2 in /usr/local/lib/python3.6/dist-packages (from pandas->cpgtools) (2018.9)\n",
            "Requirement already satisfied: setuptools in /usr/local/lib/python3.6/dist-packages (from weblogo->cpgtools) (51.3.3)\n",
            "Requirement already satisfied: scikit-learn in /usr/local/lib/python3.6/dist-packages (from sklearn->cpgtools) (0.22.2.post1)\n",
            "Requirement already satisfied: joblib>=0.11 in /usr/local/lib/python3.6/dist-packages (from scikit-learn->sklearn->cpgtools) (1.0.0)\n",
            "Installing collected packages: bx-python, weblogo, cpgtools\n",
            "Successfully installed bx-python-0.8.9 cpgtools-1.0.9 weblogo-3.7.8\n"
          ],
          "name": "stdout"
        }
      ]
    },
    {
      "cell_type": "code",
      "metadata": {
        "colab": {
          "base_uri": "https://localhost:8080/"
        },
        "id": "kXnC37k4N5gb",
        "outputId": "c9c29317-c8db-43af-92cf-638759cce450"
      },
      "source": [
        "!pip install methylpy"
      ],
      "execution_count": null,
      "outputs": [
        {
          "output_type": "stream",
          "text": [
            "Collecting methylpy\n",
            "\u001b[?25l  Downloading https://files.pythonhosted.org/packages/0c/f7/c11545a68d53957ba11482c9b756e9a663212ff4a99cba042b83f567de1f/methylpy-1.4.6.tar.gz (111kB)\n",
            "\u001b[K     |████████████████████████████████| 112kB 5.9MB/s \n",
            "\u001b[?25hRequirement already satisfied: numpy>=1.6.1 in /usr/local/lib/python3.6/dist-packages (from methylpy) (1.19.5)\n",
            "Requirement already satisfied: scipy>=0.10.0 in /usr/local/lib/python3.6/dist-packages (from methylpy) (1.4.1)\n",
            "Collecting pysam>=0.5.3\n",
            "\u001b[?25l  Downloading https://files.pythonhosted.org/packages/87/a1/73e80a7a873f3fb0e52d368a4343eb9882b737c932b95020d82251f1087e/pysam-0.16.0.1-cp36-cp36m-manylinux1_x86_64.whl (9.9MB)\n",
            "\u001b[K     |████████████████████████████████| 10.0MB 11.8MB/s \n",
            "\u001b[?25hBuilding wheels for collected packages: methylpy\n",
            "  Building wheel for methylpy (setup.py) ... \u001b[?25l\u001b[?25hdone\n",
            "  Created wheel for methylpy: filename=methylpy-1.4.6-cp36-none-any.whl size=100883 sha256=49fe88ad918e38c942d57ae16c3b10f78e60d87bc6f3ae50f5d4f71608a131eb\n",
            "  Stored in directory: /root/.cache/pip/wheels/ba/8a/1b/7f15ab3d308b756a02242a117e8fee31c7f18acd3fd2d2b4b0\n",
            "Successfully built methylpy\n",
            "Installing collected packages: pysam, methylpy\n",
            "Successfully installed methylpy-1.4.6 pysam-0.16.0.1\n"
          ],
          "name": "stdout"
        }
      ]
    },
    {
      "cell_type": "code",
      "metadata": {
        "id": "kGzjQyNNRYA6"
      },
      "source": [
        ""
      ],
      "execution_count": null,
      "outputs": []
    }
  ]
}