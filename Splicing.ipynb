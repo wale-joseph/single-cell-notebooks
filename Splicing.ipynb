{
  "nbformat": 4,
  "nbformat_minor": 0,
  "metadata": {
    "colab": {
      "name": "Splicing",
      "provenance": [],
      "toc_visible": true
    },
    "kernelspec": {
      "name": "python3",
      "display_name": "Python 3"
    }
  },
  "cells": [
    {
      "cell_type": "markdown",
      "metadata": {
        "id": "-Q1QN-7CqgVL"
      },
      "source": [
        "# Imports"
      ]
    },
    {
      "cell_type": "code",
      "metadata": {
        "id": "5Mx1cco0qW3k"
      },
      "source": [
        "import numpy as np\n",
        "import pandas as pd\n",
        "import matplotlib.pyplot as plt\n",
        "from matplotlib import rcParams\n",
        "import seaborn as sns"
      ],
      "execution_count": null,
      "outputs": []
    },
    {
      "cell_type": "code",
      "metadata": {
        "colab": {
          "base_uri": "https://localhost:8080/"
        },
        "id": "D8JajgdIq2h4",
        "outputId": "5ba638eb-dbf0-4ea9-b661-d2fcee3ade01"
      },
      "source": [
        "# Data Import\n",
        "!wget https://storage.googleapis.com/gtex_analysis_v8/interaction_qtl_data/GTEx_Analysis_v8_isQTL.tar"
      ],
      "execution_count": null,
      "outputs": [
        {
          "output_type": "stream",
          "text": [
            "--2020-12-16 10:38:29--  https://storage.googleapis.com/gtex_analysis_v8/interaction_qtl_data/GTEx_Analysis_v8_isQTL.tar\n",
            "Resolving storage.googleapis.com (storage.googleapis.com)... 172.217.193.128, 172.217.204.128, 172.217.203.128, ...\n",
            "Connecting to storage.googleapis.com (storage.googleapis.com)|172.217.193.128|:443... connected.\n",
            "HTTP request sent, awaiting response... 200 OK\n",
            "Length: 46766080 (45M) [application/x-tar]\n",
            "Saving to: ‘GTEx_Analysis_v8_isQTL.tar.1’\n",
            "\n",
            "GTEx_Analysis_v8_is 100%[===================>]  44.60M   202MB/s    in 0.2s    \n",
            "\n",
            "2020-12-16 10:38:30 (202 MB/s) - ‘GTEx_Analysis_v8_isQTL.tar.1’ saved [46766080/46766080]\n",
            "\n"
          ],
          "name": "stdout"
        }
      ]
    },
    {
      "cell_type": "code",
      "metadata": {
        "id": "jfsoRDAmrBnW"
      },
      "source": [
        "!tar -xf GTEx_Analysis_v8_isQTL.tar"
      ],
      "execution_count": null,
      "outputs": []
    },
    {
      "cell_type": "code",
      "metadata": {
        "colab": {
          "base_uri": "https://localhost:8080/"
        },
        "id": "5IzHw5hTXnsw",
        "outputId": "90959f9c-9f3f-473f-c776-2505a9fe677b"
      },
      "source": [
        "cd GTEx_Analysis_v8_isQTL/"
      ],
      "execution_count": null,
      "outputs": [
        {
          "output_type": "stream",
          "text": [
            "/content/GTEx_Analysis_v8_isQTL\n"
          ],
          "name": "stdout"
        }
      ]
    },
    {
      "cell_type": "code",
      "metadata": {
        "id": "-eVKGcutXno1",
        "colab": {
          "base_uri": "https://localhost:8080/"
        },
        "outputId": "74deb1a4-ed33-4945-fe18-cf521d684777"
      },
      "source": [
        "!gunzip Brain_Amygdala.Neurons.isQTL.eigenMT.annotated.txt.gz\n",
        "!gunzip Brain_Anterior_cingulate_cortex_BA24.Neurons.isQTL.eigenMT.annotated.txt.gz\n",
        "!gunzip Brain_Caudate_basal_ganglia.Neurons.isQTL.eigenMT.annotated.txt.gz\n",
        "!gunzip Brain_Cerebellar_Hemisphere.Neurons.isQTL.eigenMT.annotated.txt.gz\n",
        "!gunzip Brain_Cerebellum.Neurons.isQTL.eigenMT.annotated.txt.gz\n",
        "!gunzip Brain_Cortex.Neurons.isQTL.eigenMT.annotated.txt.gz\n",
        "!gunzip Brain_Frontal_Cortex_BA9.Neurons.isQTL.eigenMT.annotated.txt.gz\n",
        "!gunzip Brain_Hippocampus.Neurons.isQTL.eigenMT.annotated.txt.gz\n",
        "!gunzip Brain_Hypothalamus.Neurons.isQTL.eigenMT.annotated.txt.gz\n",
        "!gunzip Brain_Nucleus_accumbens_basal_ganglia.Neurons.isQTL.eigenMT.annotated.txt.gz\n",
        "!gunzip Brain_Putamen_basal_ganglia.Neurons.isQTL.eigenMT.annotated.txt.gz\n",
        "!gunzip Brain_Spinal_cord_cervical_c-1.Neurons.isQTL.eigenMT.annotated.txt.gz\n",
        "!gunzip Brain_Substantia_nigra.Neurons.isQTL.eigenMT.annotated.txt.gz"
      ],
      "execution_count": null,
      "outputs": [
        {
          "output_type": "stream",
          "text": [
            "gzip: Brain_Amygdala.Neurons.isQTL.eigenMT.annotated.txt already exists; do you wish to overwrite (y or n)? n\n",
            "\tnot overwritten\n",
            "gzip: Brain_Anterior_cingulate_cortex_BA24.Neurons.isQTL.eigenMT.annotated.txt already exists; do you wish to overwrite (y or n)? ^C\n",
            "gzip: Brain_Caudate_basal_ganglia.Neurons.isQTL.eigenMT.annotated.txt already exists; do you wish to overwrite (y or n)? ^C\n",
            "gzip: Brain_Cerebellar_Hemisphere.Neurons.isQTL.eigenMT.annotated.txt already exists; do you wish to overwrite (y or n)? ^C\n",
            "gzip: Brain_Cerebellum.Neurons.isQTL.eigenMT.annotated.txt already exists; do you wish to overwrite (y or n)? ^C\n",
            "gzip: Brain_Cortex.Neurons.isQTL.eigenMT.annotated.txt already exists; do you wish to overwrite (y or n)? ^C\n",
            "gzip: Brain_Frontal_Cortex_BA9.Neurons.isQTL.eigenMT.annotated.txt already exists; do you wish to overwrite (y or n)? ^C\n",
            "gzip: Brain_Hippocampus.Neurons.isQTL.eigenMT.annotated.txt already exists; do you wish to overwrite (y or n)? ^C\n",
            "gzip: Brain_Hypothalamus.Neurons.isQTL.eigenMT.annotated.txt already exists; do you wish to overwrite (y or n)? ^C\n",
            "gzip: Brain_Nucleus_accumbens_basal_ganglia.Neurons.isQTL.eigenMT.annotated.txt already exists; do you wish to overwrite (y or n)? ^C\n",
            "gzip: Brain_Putamen_basal_ganglia.Neurons.isQTL.eigenMT.annotated.txt already exists; do you wish to overwrite (y or n)? ^C\n",
            "gzip: Brain_Spinal_cord_cervical_c-1.Neurons.isQTL.eigenMT.annotated.txt already exists; do you wish to overwrite (y or n)? ^C\n",
            "gzip: Brain_Substantia_nigra.Neurons.isQTL.eigenMT.annotated.txt already exists; do you wish to overwrite (y or n)? ^C\n"
          ],
          "name": "stdout"
        }
      ]
    },
    {
      "cell_type": "code",
      "metadata": {
        "colab": {
          "base_uri": "https://localhost:8080/"
        },
        "id": "2kWuj3eglZMh",
        "outputId": "723e0902-61ca-4629-d6ed-8dece5442781"
      },
      "source": [
        "!head Brain_Amygdala.Neurons.isQTL.eigenMT.annotated.txt"
      ],
      "execution_count": null,
      "outputs": [
        {
          "output_type": "stream",
          "text": [
            "variant_id\tgene_id\tgene_name\tbiotype\tphenotype_id\ttss_distance\tmaf\tma_samples\tma_count\tpval_g\tb_g\tb_g_se\tpval_i\tb_i\tb_i_se\tpval_gi\tb_gi\tb_gi_se\tpval_emt\ttests_emt\tpval_adj_bh\n",
            "chr1_903551_A_C_b38\tENSG00000227232.5\tWASH7P\tunprocessed_pseudogene\tchr1:17368:17606:clu_32551:ENSG00000227232.5\t873998\t0.139535\t34\t36\t0.156931\t0.272783\t0.191297\t0.0441347\t-0.658243\t0.322979\t0.000101523\t0.830821\t0.205348\t0.108833\t268\t1\n",
            "chr1_897843_C_T_b38\tENSG00000279457.4\tRP11-34P13.18\tunprocessed_pseudogene\tchr1:188584:188791:clu_32554:ENSG00000279457.4\t702432\t0.244186\t56\t63\t0.714528\t0.0596679\t0.162671\t0.378722\t-0.350564\t0.396521\t0.000427615\t0.658401\t0.180796\t1\t476\t1\n",
            "chr1_1171093_G_A_b38\tENSG00000228463.9\tAP006222.2\tlincRNA\tchr1:259025:261550:clu_32556:ENSG00000228463.9\t873591\t0.24031\t53\t62\t0.946981\t-0.0127173\t0.190772\t0.11059\t-0.736893\t0.457829\t0.0254825\t-0.419073\t0.184835\t1\t590\t1\n",
            "chr1_923311_TG_T_b38\tENSG00000237094.11\tRP4-669L17.10\tlincRNA\tchr1:497299:498399:clu_32557:ENSG00000237094.11\t421694\t0.263566\t61\t68\t0.601918\t0.0824276\t0.157522\t0.00829106\t-1.17423\t0.436112\t4.78203e-05\t0.6789\t0.159831\t0.0361043\t755\t1\n",
            "chr1_1592572_T_C_b38\tENSG00000228327.3\tRP11-206L10.2\ttranscribed_unprocessed_pseudogene\tchr1:736770:738834:clu_32558:ENSG00000228327.3\t813946\t0.337209\t69\t87\t0.093021\t-0.250522\t0.147752\t0.203673\t0.521551\t0.407665\t0.00553798\t-0.38895\t0.137232\t1\t1016\t1\n",
            "chr1_945259_TC_T_b38\tENSG00000228794.8\tLINC01128\tprocessed_transcript\tchr1:829104:851927:clu_32569:ENSG00000228794.8\t120121\t0.271318\t63\t70\t0.00569899\t-0.429659\t0.152126\t0.237416\t-0.456377\t0.384011\t0.00102549\t0.572255\t0.169267\t1\t1030\t1\n",
            "chr1_1110693_C_A_b38\tENSG00000187634.11\tSAMD11\tprotein_coding\tchr1:943377:943698:clu_32574:ENSG00000187634.11\t186765\t0.162791\t38\t42\t0.101799\t-0.358005\t0.216831\t0.967914\t0.0172043\t0.42666\t0.000138377\t-1.17944\t0.297756\t0.300001\t1084\t1\n",
            "chr1_1549967_C_G_b38\tENSG00000188976.10\tNOC2L\tprotein_coding\tchr1:954523:955923:clu_32578:ENSG00000188976.10\t590658\t0.290698\t63\t75\t0.0530704\t0.263555\t0.134667\t0.157369\t0.482906\t0.339012\t7.4836e-05\t-0.597305\t0.144683\t0.767817\t1140\t1\n",
            "chr1_800909_T_A_b38\tENSG00000187961.13\tKLHL17\tprotein_coding\tchr1:962917:963109:clu_32580:ENSG00000187961.13\t-159678\t0.158915\t39\t41\t0.312991\t-0.214002\t0.211051\t0.692785\t0.166718\t0.420793\t0.00277086\t0.7619\t0.248441\t1\t1141\t1\n"
          ],
          "name": "stdout"
        }
      ]
    },
    {
      "cell_type": "code",
      "metadata": {
        "id": "x8QhXmdS8qKL"
      },
      "source": [
        "!rm *.gz"
      ],
      "execution_count": null,
      "outputs": []
    },
    {
      "cell_type": "code",
      "metadata": {
        "id": "8EklcWYjMzvv"
      },
      "source": [
        "amygdala = pd.read_csv('Brain_Amygdala.Neurons.isQTL.eigenMT.annotated.txt', sep='\\t')\n",
        "ACC = pd.read_csv('Brain_Anterior_cingulate_cortex_BA24.Neurons.isQTL.eigenMT.annotated.txt', sep='\\t')\n",
        "CBG = pd.read_csv('Brain_Caudate_basal_ganglia.Neurons.isQTL.eigenMT.annotated.txt', sep='\\t')\n",
        "CBHS = pd.read_csv('Brain_Cerebellar_Hemisphere.Neurons.isQTL.eigenMT.annotated.txt', sep='\\t')\n",
        "CERE = pd.read_csv('Brain_Cerebellum.Neurons.isQTL.eigenMT.annotated.txt', sep='\\t')\n",
        "CORTEX = pd.read_csv('Brain_Cortex.Neurons.isQTL.eigenMT.annotated.txt', sep='\\t')\n",
        "FRCORT = pd.read_csv('Brain_Frontal_Cortex_BA9.Neurons.isQTL.eigenMT.annotated.txt', sep='\\t')\n",
        "HIPPO = pd.read_csv('Brain_Hippocampus.Neurons.isQTL.eigenMT.annotated.txt', sep='\\t')\n",
        "HYPOTH = pd.read_csv('Brain_Hypothalamus.Neurons.isQTL.eigenMT.annotated.txt', sep='\\t')\n",
        "NABG = pd.read_csv('Brain_Nucleus_accumbens_basal_ganglia.Neurons.isQTL.eigenMT.annotated.txt', sep='\\t')\n",
        "PBG = pd.read_csv('Brain_Putamen_basal_ganglia.Neurons.isQTL.eigenMT.annotated.txt', sep='\\t')\n",
        "SPINAL = pd.read_csv('Brain_Spinal_cord_cervical_c-1.Neurons.isQTL.eigenMT.annotated.txt', sep='\\t')\n",
        "SUBNIG = pd.read_csv('Brain_Substantia_nigra.Neurons.isQTL.eigenMT.annotated.txt', sep='\\t')"
      ],
      "execution_count": null,
      "outputs": []
    },
    {
      "cell_type": "code",
      "metadata": {
        "colab": {
          "base_uri": "https://localhost:8080/",
          "height": 275
        },
        "id": "g6y-wAavhSQg",
        "outputId": "2f573c19-85b8-46d2-b02a-d463ee1a9ecd"
      },
      "source": [
        "amygdala.head()"
      ],
      "execution_count": null,
      "outputs": [
        {
          "output_type": "execute_result",
          "data": {
            "text/html": [
              "<div>\n",
              "<style scoped>\n",
              "    .dataframe tbody tr th:only-of-type {\n",
              "        vertical-align: middle;\n",
              "    }\n",
              "\n",
              "    .dataframe tbody tr th {\n",
              "        vertical-align: top;\n",
              "    }\n",
              "\n",
              "    .dataframe thead th {\n",
              "        text-align: right;\n",
              "    }\n",
              "</style>\n",
              "<table border=\"1\" class=\"dataframe\">\n",
              "  <thead>\n",
              "    <tr style=\"text-align: right;\">\n",
              "      <th></th>\n",
              "      <th>variant_id</th>\n",
              "      <th>gene_id</th>\n",
              "      <th>gene_name</th>\n",
              "      <th>biotype</th>\n",
              "      <th>phenotype_id</th>\n",
              "      <th>tss_distance</th>\n",
              "      <th>maf</th>\n",
              "      <th>ma_samples</th>\n",
              "      <th>ma_count</th>\n",
              "      <th>pval_g</th>\n",
              "      <th>b_g</th>\n",
              "      <th>b_g_se</th>\n",
              "      <th>pval_i</th>\n",
              "      <th>b_i</th>\n",
              "      <th>b_i_se</th>\n",
              "      <th>pval_gi</th>\n",
              "      <th>b_gi</th>\n",
              "      <th>b_gi_se</th>\n",
              "      <th>pval_emt</th>\n",
              "      <th>tests_emt</th>\n",
              "      <th>pval_adj_bh</th>\n",
              "    </tr>\n",
              "  </thead>\n",
              "  <tbody>\n",
              "    <tr>\n",
              "      <th>0</th>\n",
              "      <td>chr1_903551_A_C_b38</td>\n",
              "      <td>ENSG00000227232.5</td>\n",
              "      <td>WASH7P</td>\n",
              "      <td>unprocessed_pseudogene</td>\n",
              "      <td>chr1:17368:17606:clu_32551:ENSG00000227232.5</td>\n",
              "      <td>873998</td>\n",
              "      <td>0.139535</td>\n",
              "      <td>34</td>\n",
              "      <td>36</td>\n",
              "      <td>0.156931</td>\n",
              "      <td>0.272783</td>\n",
              "      <td>0.191297</td>\n",
              "      <td>0.044135</td>\n",
              "      <td>-0.658243</td>\n",
              "      <td>0.322979</td>\n",
              "      <td>0.000102</td>\n",
              "      <td>0.830821</td>\n",
              "      <td>0.205348</td>\n",
              "      <td>0.108833</td>\n",
              "      <td>268</td>\n",
              "      <td>1.0</td>\n",
              "    </tr>\n",
              "    <tr>\n",
              "      <th>1</th>\n",
              "      <td>chr1_897843_C_T_b38</td>\n",
              "      <td>ENSG00000279457.4</td>\n",
              "      <td>RP11-34P13.18</td>\n",
              "      <td>unprocessed_pseudogene</td>\n",
              "      <td>chr1:188584:188791:clu_32554:ENSG00000279457.4</td>\n",
              "      <td>702432</td>\n",
              "      <td>0.244186</td>\n",
              "      <td>56</td>\n",
              "      <td>63</td>\n",
              "      <td>0.714528</td>\n",
              "      <td>0.059668</td>\n",
              "      <td>0.162671</td>\n",
              "      <td>0.378722</td>\n",
              "      <td>-0.350564</td>\n",
              "      <td>0.396521</td>\n",
              "      <td>0.000428</td>\n",
              "      <td>0.658401</td>\n",
              "      <td>0.180796</td>\n",
              "      <td>1.000000</td>\n",
              "      <td>476</td>\n",
              "      <td>1.0</td>\n",
              "    </tr>\n",
              "    <tr>\n",
              "      <th>2</th>\n",
              "      <td>chr1_1171093_G_A_b38</td>\n",
              "      <td>ENSG00000228463.9</td>\n",
              "      <td>AP006222.2</td>\n",
              "      <td>lincRNA</td>\n",
              "      <td>chr1:259025:261550:clu_32556:ENSG00000228463.9</td>\n",
              "      <td>873591</td>\n",
              "      <td>0.240310</td>\n",
              "      <td>53</td>\n",
              "      <td>62</td>\n",
              "      <td>0.946981</td>\n",
              "      <td>-0.012717</td>\n",
              "      <td>0.190772</td>\n",
              "      <td>0.110590</td>\n",
              "      <td>-0.736893</td>\n",
              "      <td>0.457829</td>\n",
              "      <td>0.025482</td>\n",
              "      <td>-0.419073</td>\n",
              "      <td>0.184835</td>\n",
              "      <td>1.000000</td>\n",
              "      <td>590</td>\n",
              "      <td>1.0</td>\n",
              "    </tr>\n",
              "    <tr>\n",
              "      <th>3</th>\n",
              "      <td>chr1_923311_TG_T_b38</td>\n",
              "      <td>ENSG00000237094.11</td>\n",
              "      <td>RP4-669L17.10</td>\n",
              "      <td>lincRNA</td>\n",
              "      <td>chr1:497299:498399:clu_32557:ENSG00000237094.11</td>\n",
              "      <td>421694</td>\n",
              "      <td>0.263566</td>\n",
              "      <td>61</td>\n",
              "      <td>68</td>\n",
              "      <td>0.601918</td>\n",
              "      <td>0.082428</td>\n",
              "      <td>0.157522</td>\n",
              "      <td>0.008291</td>\n",
              "      <td>-1.174230</td>\n",
              "      <td>0.436112</td>\n",
              "      <td>0.000048</td>\n",
              "      <td>0.678900</td>\n",
              "      <td>0.159831</td>\n",
              "      <td>0.036104</td>\n",
              "      <td>755</td>\n",
              "      <td>1.0</td>\n",
              "    </tr>\n",
              "    <tr>\n",
              "      <th>4</th>\n",
              "      <td>chr1_1592572_T_C_b38</td>\n",
              "      <td>ENSG00000228327.3</td>\n",
              "      <td>RP11-206L10.2</td>\n",
              "      <td>transcribed_unprocessed_pseudogene</td>\n",
              "      <td>chr1:736770:738834:clu_32558:ENSG00000228327.3</td>\n",
              "      <td>813946</td>\n",
              "      <td>0.337209</td>\n",
              "      <td>69</td>\n",
              "      <td>87</td>\n",
              "      <td>0.093021</td>\n",
              "      <td>-0.250522</td>\n",
              "      <td>0.147752</td>\n",
              "      <td>0.203673</td>\n",
              "      <td>0.521551</td>\n",
              "      <td>0.407665</td>\n",
              "      <td>0.005538</td>\n",
              "      <td>-0.388950</td>\n",
              "      <td>0.137232</td>\n",
              "      <td>1.000000</td>\n",
              "      <td>1016</td>\n",
              "      <td>1.0</td>\n",
              "    </tr>\n",
              "  </tbody>\n",
              "</table>\n",
              "</div>"
            ],
            "text/plain": [
              "             variant_id             gene_id  ... tests_emt pval_adj_bh\n",
              "0   chr1_903551_A_C_b38   ENSG00000227232.5  ...       268         1.0\n",
              "1   chr1_897843_C_T_b38   ENSG00000279457.4  ...       476         1.0\n",
              "2  chr1_1171093_G_A_b38   ENSG00000228463.9  ...       590         1.0\n",
              "3  chr1_923311_TG_T_b38  ENSG00000237094.11  ...       755         1.0\n",
              "4  chr1_1592572_T_C_b38   ENSG00000228327.3  ...      1016         1.0\n",
              "\n",
              "[5 rows x 21 columns]"
            ]
          },
          "metadata": {
            "tags": []
          },
          "execution_count": 13
        }
      ]
    },
    {
      "cell_type": "code",
      "metadata": {
        "id": "QvjEwjWvhHv7"
      },
      "source": [
        "coreLNC = pd.read_csv('/content/coreLNC_rename.txt', sep='\\t')"
      ],
      "execution_count": null,
      "outputs": []
    },
    {
      "cell_type": "code",
      "metadata": {
        "colab": {
          "base_uri": "https://localhost:8080/"
        },
        "id": "ENNAZyeLiHDp",
        "outputId": "72ff2b75-05d4-4c82-ce15-fb99856dcc2f"
      },
      "source": [
        "coreLNC.shape"
      ],
      "execution_count": null,
      "outputs": [
        {
          "output_type": "execute_result",
          "data": {
            "text/plain": [
              "(1750, 4)"
            ]
          },
          "metadata": {
            "tags": []
          },
          "execution_count": 16
        }
      ]
    },
    {
      "cell_type": "code",
      "metadata": {
        "colab": {
          "base_uri": "https://localhost:8080/",
          "height": 80
        },
        "id": "r6MuuCJKht3I",
        "outputId": "c36d6f8a-afb2-405e-8ba7-98a1e97fd748"
      },
      "source": [
        "coreLNC.sample(1)"
      ],
      "execution_count": null,
      "outputs": [
        {
          "output_type": "execute_result",
          "data": {
            "text/html": [
              "<div>\n",
              "<style scoped>\n",
              "    .dataframe tbody tr th:only-of-type {\n",
              "        vertical-align: middle;\n",
              "    }\n",
              "\n",
              "    .dataframe tbody tr th {\n",
              "        vertical-align: top;\n",
              "    }\n",
              "\n",
              "    .dataframe thead th {\n",
              "        text-align: right;\n",
              "    }\n",
              "</style>\n",
              "<table border=\"1\" class=\"dataframe\">\n",
              "  <thead>\n",
              "    <tr style=\"text-align: right;\">\n",
              "      <th></th>\n",
              "      <th>gene_ID</th>\n",
              "      <th>gene_stable_ID</th>\n",
              "      <th>transcript_ID</th>\n",
              "      <th>transcript_stableID</th>\n",
              "    </tr>\n",
              "  </thead>\n",
              "  <tbody>\n",
              "    <tr>\n",
              "      <th>1171</th>\n",
              "      <td>ENSG00000180422</td>\n",
              "      <td>ENSG00000180422.3</td>\n",
              "      <td>ENST00000565008</td>\n",
              "      <td>ENST00000565008.1</td>\n",
              "    </tr>\n",
              "  </tbody>\n",
              "</table>\n",
              "</div>"
            ],
            "text/plain": [
              "              gene_ID     gene_stable_ID    transcript_ID transcript_stableID\n",
              "1171  ENSG00000180422  ENSG00000180422.3  ENST00000565008   ENST00000565008.1"
            ]
          },
          "metadata": {
            "tags": []
          },
          "execution_count": 17
        }
      ]
    },
    {
      "cell_type": "code",
      "metadata": {
        "colab": {
          "base_uri": "https://localhost:8080/"
        },
        "id": "YEC2qb9K2k1l",
        "outputId": "189481ce-72ef-48fe-9b8d-a56366fc38d6"
      },
      "source": [
        "amygdala.columns"
      ],
      "execution_count": null,
      "outputs": [
        {
          "output_type": "execute_result",
          "data": {
            "text/plain": [
              "Index(['variant_id', 'gene_id', 'gene_name', 'biotype', 'phenotype_id',\n",
              "       'tss_distance', 'maf', 'ma_samples', 'ma_count', 'pval_g', 'b_g',\n",
              "       'b_g_se', 'pval_i', 'b_i', 'b_i_se', 'pval_gi', 'b_gi', 'b_gi_se',\n",
              "       'pval_emt', 'tests_emt', 'pval_adj_bh'],\n",
              "      dtype='object')"
            ]
          },
          "metadata": {
            "tags": []
          },
          "execution_count": 18
        }
      ]
    },
    {
      "cell_type": "code",
      "metadata": {
        "colab": {
          "base_uri": "https://localhost:8080/"
        },
        "id": "Aa0CgyUVrbfW",
        "outputId": "d79daa8e-6c37-4136-f4ab-1577a6df3c51"
      },
      "source": [
        "list(coreLNC.columns)"
      ],
      "execution_count": null,
      "outputs": [
        {
          "output_type": "execute_result",
          "data": {
            "text/plain": [
              "['gene_ID', 'gene_stable_ID', 'transcript_ID', 'transcript_stableID']"
            ]
          },
          "metadata": {
            "tags": []
          },
          "execution_count": 19
        }
      ]
    },
    {
      "cell_type": "code",
      "metadata": {
        "id": "d9hcgOPen9fn"
      },
      "source": [
        "def lncMerger(sQTL):\n",
        "  \n",
        "  \"\"\" sQTL is a pandas for the splice variant\n",
        "  coreLNC is the list of highly variable lncs\n",
        "  between different tissues\"\"\"\n",
        "\n",
        "  MERGED = sQTL.merge(coreLNC, how =\"inner\", left_on='gene_id', right_on='gene_stable_ID')\n",
        "  MERGED = MERGED.drop(['variant_id', 'gene_id', 'gene_name', 'biotype', 'phenotype_id',\n",
        "       'tss_distance', 'ma_samples', 'maf', 'pval_g', 'b_g',\n",
        "       'b_g_se', 'pval_i', 'b_i', 'b_i_se', 'pval_gi', 'b_gi', 'b_gi_se',\n",
        "       'pval_emt', 'tests_emt', 'pval_adj_bh', 'gene_stable_ID', 'transcript_ID', \n",
        "       'transcript_stableID'], axis=1)\n",
        "  #MERGED = MERGED.set_index('maf', 'num_alt_per_site' )\n",
        "  #I kept ma_count maf\n",
        "  return MERGED\n"
      ],
      "execution_count": null,
      "outputs": []
    },
    {
      "cell_type": "code",
      "metadata": {
        "id": "5c_uTcHKdwc2"
      },
      "source": [
        "amy = lncMerger(amygdala)\n",
        "acc = lncMerger(ACC)\n",
        "cbg = lncMerger(CBG)\n",
        "cbhs = lncMerger(CBHS)\n",
        "cere = lncMerger(CERE)\n",
        "cortex = lncMerger(CORTEX)\n",
        "frcort = lncMerger(FRCORT)\n",
        "hippo = lncMerger(HIPPO)\n",
        "hypoth = lncMerger(HYPOTH)\n",
        "nabg = lncMerger(NABG)\n",
        "pbg = lncMerger(PBG)\n",
        "spinal = lncMerger(SPINAL)\n",
        "subnig = lncMerger(SUBNIG)"
      ],
      "execution_count": null,
      "outputs": []
    },
    {
      "cell_type": "code",
      "metadata": {
        "colab": {
          "base_uri": "https://localhost:8080/",
          "height": 80
        },
        "id": "Xx2BhCjvxXYp",
        "outputId": "caa44896-7586-48f6-f434-0b4bbb38a9db"
      },
      "source": [
        "amy.head(1)"
      ],
      "execution_count": null,
      "outputs": [
        {
          "output_type": "execute_result",
          "data": {
            "text/html": [
              "<div>\n",
              "<style scoped>\n",
              "    .dataframe tbody tr th:only-of-type {\n",
              "        vertical-align: middle;\n",
              "    }\n",
              "\n",
              "    .dataframe tbody tr th {\n",
              "        vertical-align: top;\n",
              "    }\n",
              "\n",
              "    .dataframe thead th {\n",
              "        text-align: right;\n",
              "    }\n",
              "</style>\n",
              "<table border=\"1\" class=\"dataframe\">\n",
              "  <thead>\n",
              "    <tr style=\"text-align: right;\">\n",
              "      <th></th>\n",
              "      <th>ma_count</th>\n",
              "      <th>gene_ID</th>\n",
              "    </tr>\n",
              "  </thead>\n",
              "  <tbody>\n",
              "    <tr>\n",
              "      <th>0</th>\n",
              "      <td>57</td>\n",
              "      <td>ENSG00000230415</td>\n",
              "    </tr>\n",
              "  </tbody>\n",
              "</table>\n",
              "</div>"
            ],
            "text/plain": [
              "   ma_count          gene_ID\n",
              "0        57  ENSG00000230415"
            ]
          },
          "metadata": {
            "tags": []
          },
          "execution_count": 22
        }
      ]
    },
    {
      "cell_type": "code",
      "metadata": {
        "id": "MUa5otLEdwZv"
      },
      "source": [
        "mylist = [acc, cbg, cbhs, cere, cortex, frcort, hippo, hypoth, nabg,\n",
        "           pbg, spinal, subnig]"
      ],
      "execution_count": null,
      "outputs": []
    },
    {
      "cell_type": "code",
      "metadata": {
        "id": "xibCFiO0dwLz"
      },
      "source": [
        "x = amy.set_index('gene_ID').join(acc.set_index('gene_ID'), lsuffix='amy', rsuffix='acc')\n",
        "#x = x.join(acc.set_index('gene_id'), lsuffix='amy', rsuffix='acc')\n"
      ],
      "execution_count": null,
      "outputs": []
    },
    {
      "cell_type": "code",
      "metadata": {
        "id": "YPNTUvmF_YNz"
      },
      "source": [
        "x = x.join(cbg.set_index('gene_ID'), lsuffix='x', rsuffix='cbg')\n",
        "\n"
      ],
      "execution_count": null,
      "outputs": []
    },
    {
      "cell_type": "code",
      "metadata": {
        "id": "PW2Wga7e_gPN"
      },
      "source": [
        "x = x.join(cbhs.set_index('gene_ID'), lsuffix='x', rsuffix='cbhs')\n"
      ],
      "execution_count": null,
      "outputs": []
    },
    {
      "cell_type": "code",
      "metadata": {
        "id": "RfHDZNYa_tIm"
      },
      "source": [
        "x = x.join(cere.set_index('gene_ID'), lsuffix='x', rsuffix='cere').drop_duplicates()\n"
      ],
      "execution_count": null,
      "outputs": []
    },
    {
      "cell_type": "code",
      "metadata": {
        "id": "OEK96P-O_zge"
      },
      "source": [
        "x = x.join(cortex.set_index('gene_ID'), lsuffix='x', rsuffix='cortex').drop_duplicates()\n",
        "x = x.join(frcort.set_index('gene_ID'), lsuffix='x', rsuffix='frc').drop_duplicates()\n",
        "x = x.join(hippo.set_index('gene_ID'), lsuffix='x', rsuffix='hip').drop_duplicates()\n",
        "x = x.join(hypoth.set_index('gene_ID'), lsuffix='x', rsuffix='hyp').drop_duplicates()\n",
        "x = x.join(nabg.set_index('gene_ID'), lsuffix='x', rsuffix='nabg').drop_duplicates()\n",
        "x = x.join(pbg.set_index('gene_ID'), lsuffix='x', rsuffix='pbg').drop_duplicates()\n",
        "x = x.join(spinal.set_index('gene_ID'), lsuffix='x', rsuffix='spi').drop_duplicates()\n",
        "x = x.join(subnig.set_index('gene_ID'), lsuffix='x', rsuffix='sub').drop_duplicates()"
      ],
      "execution_count": null,
      "outputs": []
    },
    {
      "cell_type": "code",
      "metadata": {
        "id": "AgoPmAYtBPkp"
      },
      "source": [
        "x.columns = ['amy','acc', 'cbg', 'cbhs', 'cere', 'cortex', 'frcort', 'hippo', 'hypoth', 'nabg',\n",
        "           'pbg', 'spinal', 'subnig']"
      ],
      "execution_count": null,
      "outputs": []
    },
    {
      "cell_type": "code",
      "metadata": {
        "colab": {
          "base_uri": "https://localhost:8080/",
          "height": 111
        },
        "id": "93qwXP_H4LKG",
        "outputId": "587345b2-7b20-47b2-f1b8-4dea2f596f0b"
      },
      "source": [
        "x.sample(1)"
      ],
      "execution_count": null,
      "outputs": [
        {
          "output_type": "execute_result",
          "data": {
            "text/html": [
              "<div>\n",
              "<style scoped>\n",
              "    .dataframe tbody tr th:only-of-type {\n",
              "        vertical-align: middle;\n",
              "    }\n",
              "\n",
              "    .dataframe tbody tr th {\n",
              "        vertical-align: top;\n",
              "    }\n",
              "\n",
              "    .dataframe thead th {\n",
              "        text-align: right;\n",
              "    }\n",
              "</style>\n",
              "<table border=\"1\" class=\"dataframe\">\n",
              "  <thead>\n",
              "    <tr style=\"text-align: right;\">\n",
              "      <th></th>\n",
              "      <th>amy</th>\n",
              "      <th>acc</th>\n",
              "      <th>cbg</th>\n",
              "      <th>cbhs</th>\n",
              "      <th>cere</th>\n",
              "      <th>cortex</th>\n",
              "      <th>frcort</th>\n",
              "      <th>hippo</th>\n",
              "      <th>hypoth</th>\n",
              "      <th>nabg</th>\n",
              "      <th>pbg</th>\n",
              "      <th>spinal</th>\n",
              "      <th>subnig</th>\n",
              "    </tr>\n",
              "    <tr>\n",
              "      <th>gene_ID</th>\n",
              "      <th></th>\n",
              "      <th></th>\n",
              "      <th></th>\n",
              "      <th></th>\n",
              "      <th></th>\n",
              "      <th></th>\n",
              "      <th></th>\n",
              "      <th></th>\n",
              "      <th></th>\n",
              "      <th></th>\n",
              "      <th></th>\n",
              "      <th></th>\n",
              "      <th></th>\n",
              "    </tr>\n",
              "  </thead>\n",
              "  <tbody>\n",
              "    <tr>\n",
              "      <th>ENSG00000226471</th>\n",
              "      <td>57</td>\n",
              "      <td>144.0</td>\n",
              "      <td>82.0</td>\n",
              "      <td>118.0</td>\n",
              "      <td>135.0</td>\n",
              "      <td>71.0</td>\n",
              "      <td>60.0</td>\n",
              "      <td>119.0</td>\n",
              "      <td>68.0</td>\n",
              "      <td>135.0</td>\n",
              "      <td>158.0</td>\n",
              "      <td>100.0</td>\n",
              "      <td>42.0</td>\n",
              "    </tr>\n",
              "  </tbody>\n",
              "</table>\n",
              "</div>"
            ],
            "text/plain": [
              "                 amy    acc   cbg   cbhs  ...   nabg    pbg  spinal  subnig\n",
              "gene_ID                                   ...                              \n",
              "ENSG00000226471   57  144.0  82.0  118.0  ...  135.0  158.0   100.0    42.0\n",
              "\n",
              "[1 rows x 13 columns]"
            ]
          },
          "metadata": {
            "tags": []
          },
          "execution_count": 60
        }
      ]
    },
    {
      "cell_type": "code",
      "metadata": {
        "id": "bVKH6sblG8bL"
      },
      "source": [
        "x = x.dropna()"
      ],
      "execution_count": null,
      "outputs": []
    },
    {
      "cell_type": "code",
      "metadata": {
        "colab": {
          "base_uri": "https://localhost:8080/",
          "height": 391
        },
        "id": "_3_1rMXEZ09P",
        "outputId": "b9cbfee8-4af7-448d-f08b-69354a97a31f"
      },
      "source": [
        "sns.clustermap(x, cmap='vlag', metric= 'euclidean', figsize=[8,5])"
      ],
      "execution_count": null,
      "outputs": [
        {
          "output_type": "execute_result",
          "data": {
            "text/plain": [
              "<seaborn.matrix.ClusterGrid at 0x7f87314a4160>"
            ]
          },
          "metadata": {
            "tags": []
          },
          "execution_count": 76
        },
        {
          "output_type": "display_data",
          "data": {
            "image/png": "[encoded data removed]",
            "text/plain": [
              "<Figure size 576x360 with 4 Axes>"
            ]
          },
          "metadata": {
            "tags": [],
            "needs_background": "light"
          }
        }
      ]
    },
    {
      "cell_type": "code",
      "metadata": {
        "id": "jMCt9-_c6Txx"
      },
      "source": [
        "#del(x)"
      ],
      "execution_count": null,
      "outputs": []
    },
    {
      "cell_type": "code",
      "metadata": {
        "id": "DVmk0lZvKoy5"
      },
      "source": [
        "x.to_csv(\"sQTLDATA.csv\", sep='\\t', index=None)"
      ],
      "execution_count": null,
      "outputs": []
    },
    {
      "cell_type": "code",
      "metadata": {
        "id": "ralAlXo5QZtB"
      },
      "source": [
        ""
      ],
      "execution_count": null,
      "outputs": []
    },
    {
      "cell_type": "code",
      "metadata": {
        "colab": {
          "base_uri": "https://localhost:8080/",
          "height": 393
        },
        "id": "azjmT-r1cAZP",
        "outputId": "9309d094-b213-4738-8c7b-8a351c7c0153"
      },
      "source": [
        "from scipy.ndimage.filters import gaussian_filter\n",
        "df3_smooth = gaussian_filter(x, sigma=0.65)\n",
        "sns.clustermap(df3_smooth, \n",
        "               #vmin=-40, vmax=100,\n",
        "               figsize=[5,5], \n",
        "               cmap='vlag', metric= 'euclidean')"
      ],
      "execution_count": null,
      "outputs": [
        {
          "output_type": "execute_result",
          "data": {
            "text/plain": [
              "<seaborn.matrix.ClusterGrid at 0x7f8725a02080>"
            ]
          },
          "metadata": {
            "tags": []
          },
          "execution_count": 130
        },
        {
          "output_type": "display_data",
          "data": {
            "image/png": "[encoded data removed]",
            "text/plain": [
              "<Figure size 360x360 with 4 Axes>"
            ]
          },
          "metadata": {
            "tags": [],
            "needs_background": "light"
          }
        }
      ]
    },
    {
      "cell_type": "code",
      "metadata": {
        "id": "SrlyInxXdDXR"
      },
      "source": [
        ""
      ],
      "execution_count": null,
      "outputs": []
    },
    {
      "cell_type": "markdown",
      "metadata": {
        "id": "9mXSZgENtYqS"
      },
      "source": [
        "#After Wanke"
      ]
    },
    {
      "cell_type": "code",
      "metadata": {
        "id": "eIwPqX9ney5A"
      },
      "source": [
        "import pandas as pd\n",
        "import seaborn as sns\n",
        "import numpy as np\n",
        "import matplotlib.pyplot as plt\n",
        "sns.set_style('dark')"
      ],
      "execution_count": null,
      "outputs": []
    },
    {
      "cell_type": "code",
      "metadata": {
        "id": "3Oo0Nw_RuXE9"
      },
      "source": [
        "df = pd.read_csv('sQTLDATA_1.csv',sep='\\t')"
      ],
      "execution_count": null,
      "outputs": []
    },
    {
      "cell_type": "code",
      "metadata": {
        "colab": {
          "base_uri": "https://localhost:8080/",
          "height": 204
        },
        "id": "vL9HMrKOue4e",
        "outputId": "57cb91df-68a3-4f33-8bf2-fa1644167539"
      },
      "source": [
        "df.head()"
      ],
      "execution_count": null,
      "outputs": [
        {
          "output_type": "execute_result",
          "data": {
            "text/html": [
              "<div>\n",
              "<style scoped>\n",
              "    .dataframe tbody tr th:only-of-type {\n",
              "        vertical-align: middle;\n",
              "    }\n",
              "\n",
              "    .dataframe tbody tr th {\n",
              "        vertical-align: top;\n",
              "    }\n",
              "\n",
              "    .dataframe thead th {\n",
              "        text-align: right;\n",
              "    }\n",
              "</style>\n",
              "<table border=\"1\" class=\"dataframe\">\n",
              "  <thead>\n",
              "    <tr style=\"text-align: right;\">\n",
              "      <th></th>\n",
              "      <th>amy</th>\n",
              "      <th>acc</th>\n",
              "      <th>cbg</th>\n",
              "      <th>cbhs</th>\n",
              "      <th>cere</th>\n",
              "      <th>cortex</th>\n",
              "      <th>frcort</th>\n",
              "      <th>hippo</th>\n",
              "      <th>hypoth</th>\n",
              "      <th>nabg</th>\n",
              "      <th>pbg</th>\n",
              "      <th>spinal</th>\n",
              "      <th>subnig</th>\n",
              "    </tr>\n",
              "  </thead>\n",
              "  <tbody>\n",
              "    <tr>\n",
              "      <th>0</th>\n",
              "      <td>33</td>\n",
              "      <td>92.0</td>\n",
              "      <td>89.0</td>\n",
              "      <td>42.0</td>\n",
              "      <td>206.0</td>\n",
              "      <td>96.0</td>\n",
              "      <td>46.0</td>\n",
              "      <td>74.0</td>\n",
              "      <td>85.0</td>\n",
              "      <td>53.0</td>\n",
              "      <td>56.0</td>\n",
              "      <td>102.0</td>\n",
              "      <td>89.0</td>\n",
              "    </tr>\n",
              "    <tr>\n",
              "      <th>1</th>\n",
              "      <td>72</td>\n",
              "      <td>135.0</td>\n",
              "      <td>64.0</td>\n",
              "      <td>58.0</td>\n",
              "      <td>50.0</td>\n",
              "      <td>98.0</td>\n",
              "      <td>83.0</td>\n",
              "      <td>80.0</td>\n",
              "      <td>135.0</td>\n",
              "      <td>52.0</td>\n",
              "      <td>89.0</td>\n",
              "      <td>30.0</td>\n",
              "      <td>44.0</td>\n",
              "    </tr>\n",
              "    <tr>\n",
              "      <th>2</th>\n",
              "      <td>32</td>\n",
              "      <td>35.0</td>\n",
              "      <td>61.0</td>\n",
              "      <td>101.0</td>\n",
              "      <td>80.0</td>\n",
              "      <td>64.0</td>\n",
              "      <td>94.0</td>\n",
              "      <td>52.0</td>\n",
              "      <td>44.0</td>\n",
              "      <td>168.0</td>\n",
              "      <td>47.0</td>\n",
              "      <td>52.0</td>\n",
              "      <td>76.0</td>\n",
              "    </tr>\n",
              "    <tr>\n",
              "      <th>3</th>\n",
              "      <td>111</td>\n",
              "      <td>41.0</td>\n",
              "      <td>104.0</td>\n",
              "      <td>62.0</td>\n",
              "      <td>161.0</td>\n",
              "      <td>179.0</td>\n",
              "      <td>68.0</td>\n",
              "      <td>72.0</td>\n",
              "      <td>121.0</td>\n",
              "      <td>63.0</td>\n",
              "      <td>86.0</td>\n",
              "      <td>87.0</td>\n",
              "      <td>58.0</td>\n",
              "    </tr>\n",
              "    <tr>\n",
              "      <th>4</th>\n",
              "      <td>60</td>\n",
              "      <td>79.0</td>\n",
              "      <td>44.0</td>\n",
              "      <td>42.0</td>\n",
              "      <td>75.0</td>\n",
              "      <td>65.0</td>\n",
              "      <td>81.0</td>\n",
              "      <td>116.0</td>\n",
              "      <td>114.0</td>\n",
              "      <td>169.0</td>\n",
              "      <td>85.0</td>\n",
              "      <td>56.0</td>\n",
              "      <td>65.0</td>\n",
              "    </tr>\n",
              "  </tbody>\n",
              "</table>\n",
              "</div>"
            ],
            "text/plain": [
              "   amy    acc    cbg   cbhs   cere  ...  hypoth   nabg   pbg  spinal  subnig\n",
              "0   33   92.0   89.0   42.0  206.0  ...    85.0   53.0  56.0   102.0    89.0\n",
              "1   72  135.0   64.0   58.0   50.0  ...   135.0   52.0  89.0    30.0    44.0\n",
              "2   32   35.0   61.0  101.0   80.0  ...    44.0  168.0  47.0    52.0    76.0\n",
              "3  111   41.0  104.0   62.0  161.0  ...   121.0   63.0  86.0    87.0    58.0\n",
              "4   60   79.0   44.0   42.0   75.0  ...   114.0  169.0  85.0    56.0    65.0\n",
              "\n",
              "[5 rows x 13 columns]"
            ]
          },
          "metadata": {
            "tags": []
          },
          "execution_count": 6
        }
      ]
    },
    {
      "cell_type": "code",
      "metadata": {
        "colab": {
          "base_uri": "https://localhost:8080/",
          "height": 461
        },
        "id": "7ZZg4Ro5ugY5",
        "outputId": "d4a60dff-f17a-4878-de42-82db27124298"
      },
      "source": [
        "from scipy.ndimage.filters import gaussian_filter\n",
        "df3_smooth = gaussian_filter(df, sigma=0.65)\n",
        "sns.clustermap(df,\n",
        "               #3_smooth, \n",
        "               #vmin=-40, vmax=100,\n",
        "               figsize=[6,6], \n",
        "               #standard_scale=0,\n",
        "               cmap='coolwarm', metric= 'euclidean')"
      ],
      "execution_count": null,
      "outputs": [
        {
          "output_type": "execute_result",
          "data": {
            "text/plain": [
              "<seaborn.matrix.ClusterGrid at 0x7f0d92155278>"
            ]
          },
          "metadata": {
            "tags": []
          },
          "execution_count": 7
        },
        {
          "output_type": "display_data",
          "data": {
            "image/png": "[encoded data removed]",
            "text/plain": [
              "<Figure size 432x432 with 4 Axes>"
            ]
          },
          "metadata": {
            "tags": [],
            "needs_background": "light"
          }
        }
      ]
    },
    {
      "cell_type": "code",
      "metadata": {
        "id": "qx2wl_r2N7EO"
      },
      "source": [
        "def sumPlotter(dataframe):\n",
        "  \"\"\" plot total sum in each column\"\"\"\n",
        "  \n",
        "  import seaborn as sns\n",
        "  import pandas as pd\n",
        "\n",
        "  colId = dataframe.columns\n",
        "\n",
        "  sumList = []\n",
        "  for i in colId:\n",
        "    sum = dataframe[i].median()\n",
        "    sumList.append(sum)\n",
        "\n",
        "  table = pd.DataFrame(data={'colId':colId, 'sumList': sumList})\n",
        "  \n",
        "\n",
        "  return sns.barplot(x='colId', y='sumList', \n",
        "              data=table.sort_values(by = 'sumList'), palette='Greens')"
      ],
      "execution_count": null,
      "outputs": []
    },
    {
      "cell_type": "code",
      "metadata": {
        "colab": {
          "base_uri": "https://localhost:8080/",
          "height": 282
        },
        "id": "ZEcgpoFsWhQx",
        "outputId": "f109e6a3-bfb8-468d-bf78-6f62cc1f32f0"
      },
      "source": [
        "df.plot(kind='box', cmap='viridis' )"
      ],
      "execution_count": null,
      "outputs": [
        {
          "output_type": "execute_result",
          "data": {
            "text/plain": [
              "<matplotlib.axes._subplots.AxesSubplot at 0x7f0d82a736d8>"
            ]
          },
          "metadata": {
            "tags": []
          },
          "execution_count": 58
        },
        {
          "output_type": "display_data",
          "data": {
            "image/png": "[encoded data removed]",
            "text/plain": [
              "<Figure size 432x288 with 1 Axes>"
            ]
          },
          "metadata": {
            "tags": [],
            "needs_background": "light"
          }
        }
      ]
    },
    {
      "cell_type": "code",
      "metadata": {
        "colab": {
          "base_uri": "https://localhost:8080/",
          "height": 296
        },
        "id": "g76sDDicOcYZ",
        "outputId": "5c8d439f-b4cc-4782-d1ba-82d99477f111"
      },
      "source": [
        "sumPlotter(df)"
      ],
      "execution_count": null,
      "outputs": [
        {
          "output_type": "execute_result",
          "data": {
            "text/plain": [
              "<matplotlib.axes._subplots.AxesSubplot at 0x7f0d851db4a8>"
            ]
          },
          "metadata": {
            "tags": []
          },
          "execution_count": 41
        },
        {
          "output_type": "display_data",
          "data": {
            "image/png": "[encoded data removed]",
            "text/plain": [
              "<Figure size 432x288 with 1 Axes>"
            ]
          },
          "metadata": {
            "tags": [],
            "needs_background": "light"
          }
        }
      ]
    },
    {
      "cell_type": "code",
      "metadata": {
        "colab": {
          "base_uri": "https://localhost:8080/",
          "height": 393
        },
        "id": "N9TDTTbK8IWJ",
        "outputId": "7ca92252-984f-4b4b-ba29-e17fb2f2a10c"
      },
      "source": [
        "sns.clustermap(df.corr(),\n",
        "               figsize=[5,5],\n",
        "               cmap='vlag')"
      ],
      "execution_count": null,
      "outputs": [
        {
          "output_type": "execute_result",
          "data": {
            "text/plain": [
              "<seaborn.matrix.ClusterGrid at 0x7f119a6eda20>"
            ]
          },
          "metadata": {
            "tags": []
          },
          "execution_count": 45
        },
        {
          "output_type": "display_data",
          "data": {
            "image/png": "[encoded data removed]",
            "text/plain": [
              "<Figure size 360x360 with 4 Axes>"
            ]
          },
          "metadata": {
            "tags": []
          }
        }
      ]
    },
    {
      "cell_type": "code",
      "metadata": {
        "colab": {
          "base_uri": "https://localhost:8080/",
          "height": 120
        },
        "id": "Cn8skoDg8VfW",
        "outputId": "230cae81-41b5-4a3b-914e-47acf541b99b"
      },
      "source": [
        "## R-SHEET\n",
        "\"\"\"\n",
        "library(ggplot2)\n",
        "ggplot(mtcars, aes(x=CarBrand, y=mpg_z_score, label=mpg_z_score)) +\n",
        "  geom_point(stat='identity', aes(col=mpg_type), size=6) +\n",
        "  scale_color_manual(name=\"Mileage (deviation)\",\n",
        "                     labels = c(\"Above Average\", \"Below Average\"),\n",
        "                     values = c(\"above\"=\"#00ba38\", \"below\"=\"#0b8fd3\")) +\n",
        "  geom_text(color=\"white\", size=2) +\n",
        "  labs(title=\"Diverging Dot Plot (ggplot2)\",\n",
        "       subtitle=\"Z score showing Normalised mileage\", caption=\"Produced by Gary Hutson\") +\n",
        "  ylim(-2.5, 2.5) +\n",
        "  coord_flip() \n",
        "  \"\"\""
      ],
      "execution_count": null,
      "outputs": [
        {
          "output_type": "execute_result",
          "data": {
            "application/vnd.google.colaboratory.intrinsic+json": {
              "type": "string"
            },
            "text/plain": [
              "'\\nlibrary(ggplot2)\\nggplot(mtcars, aes(x=CarBrand, y=mpg_z_score, label=mpg_z_score)) +\\n  geom_point(stat=\\'identity\\', aes(col=mpg_type), size=6) +\\n  scale_color_manual(name=\"Mileage (deviation)\",\\n                     labels = c(\"Above Average\", \"Below Average\"),\\n                     values = c(\"above\"=\"#00ba38\", \"below\"=\"#0b8fd3\")) +\\n  geom_text(color=\"white\", size=2) +\\n  labs(title=\"Diverging Dot Plot (ggplot2)\",\\n       subtitle=\"Z score showing Normalised mileage\", caption=\"Produced by Gary Hutson\") +\\n  ylim(-2.5, 2.5) +\\n  coord_flip() \\n  '"
            ]
          },
          "metadata": {
            "tags": []
          },
          "execution_count": 46
        }
      ]
    },
    {
      "cell_type": "code",
      "metadata": {
        "id": "z71B4nL3ErBk"
      },
      "source": [
        ""
      ],
      "execution_count": null,
      "outputs": []
    }
  ]
}